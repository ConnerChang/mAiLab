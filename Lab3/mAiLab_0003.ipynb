{
 "cells": [
  {
   "cell_type": "code",
   "execution_count": 1,
   "metadata": {
    "collapsed": true
   },
   "outputs": [],
   "source": [
    "import os\n",
    "import struct\n",
    "import numpy as np\n",
    "from PIL import Image"
   ]
  },
  {
   "cell_type": "code",
   "execution_count": 2,
   "metadata": {
    "collapsed": false
   },
   "outputs": [],
   "source": [
    "# the following codes are derived from https://gist.github.com/akesling/5358964\n",
    "def ascii_show(image):\n",
    "    for y in image:\n",
    "        row = \"\"\n",
    "        for x in y:\n",
    "            row += '{:02x}'.format(x)\n",
    "        print(row)\n",
    "\n",
    "def read(dataset = \"training\", path = \".\"):\n",
    "    if dataset is \"training\":\n",
    "        fname_img = os.path.join(path, 'train-images-idx3-ubyte')\n",
    "        fname_lbl = os.path.join(path, 'train-labels-idx1-ubyte')\n",
    "    elif dataset is \"testing\":\n",
    "        fname_img = os.path.join(path, 't10k-images-idx3-ubyte')\n",
    "        fname_lbl = os.path.join(path, 't10k-labels-idx1-ubyte')\n",
    "    else:\n",
    "        raise ValueError\n",
    "\n",
    "    with open(fname_lbl, 'rb') as flbl:\n",
    "        magic, num = struct.unpack(\">II\", flbl.read(8))\n",
    "        lbl = np.fromfile(flbl, dtype=np.int8)\n",
    "\n",
    "    with open(fname_img, 'rb') as fimg:\n",
    "        magic, num, rows, cols = struct.unpack(\">IIII\", fimg.read(16))\n",
    "        img = np.fromfile(fimg, dtype=np.uint8).reshape(len(lbl), rows, cols)\n",
    "\n",
    "    return lbl, img"
   ]
  },
  {
   "cell_type": "code",
   "execution_count": 3,
   "metadata": {
    "collapsed": false
   },
   "outputs": [],
   "source": [
    "lbl, img = read(dataset='training', path=\"../data/\")"
   ]
  },
  {
   "cell_type": "code",
   "execution_count": 4,
   "metadata": {
    "collapsed": false
   },
   "outputs": [
    {
     "name": "stdout",
     "output_type": "stream",
     "text": [
      "00000000000000000000000000000000000000000000000000000000\n",
      "00000000000000000000000000000000000000000000000000000000\n",
      "00000000000000000000000000000000000000000000000000000000\n",
      "00000000000000000000000000000000000000000000000000000000\n",
      "00000000000000000000000000000000000000000000000000000000\n",
      "000000000000000000000000031212127e88af1aa6fff77f00000000\n",
      "00000000000000001e245e9aaafdfdfdfdfde1acfdf2c34000000000\n",
      "0000000000000031eefdfdfdfdfdfdfdfdfb5d525238270000000000\n",
      "0000000000000012dbfdfdfdfdfdc6b6f7f100000000000000000000\n",
      "0000000000000000509c6bfdfdcd0b002b9a00000000000000000000\n",
      "0000000000000000000e019afd5a0000000000000000000000000000\n",
      "00000000000000000000008bfdbe0200000000000000000000000000\n",
      "00000000000000000000000bbefd4600000000000000000000000000\n",
      "00000000000000000000000023f1e1a06c0100000000000000000000\n",
      "0000000000000000000000000051f0fdfd7719000000000000000000\n",
      "00000000000000000000000000002dbafdfd961b0000000000000000\n",
      "000000000000000000000000000000105dfcfdbb0000000000000000\n",
      "0000000000000000000000000000000000f9fdf94000000000000000\n",
      "00000000000000000000000000002e82b7fdfdcf0200000000000000\n",
      "0000000000000000000000002794e5fdfdfdfab60000000000000000\n",
      "000000000000000000001872ddfdfdfdfdc94e000000000000000000\n",
      "00000000000000001742d5fdfdfdfdc6510200000000000000000000\n",
      "00000000000012abdbfdfdfdfdc35009000000000000000000000000\n",
      "0000000037ace2fdfdfdfdf4850b0000000000000000000000000000\n",
      "0000000088fdfdfdd487841000000000000000000000000000000000\n",
      "00000000000000000000000000000000000000000000000000000000\n",
      "00000000000000000000000000000000000000000000000000000000\n",
      "00000000000000000000000000000000000000000000000000000000\n"
     ]
    }
   ],
   "source": [
    "ascii_show(img[0])"
   ]
  },
  {
   "cell_type": "code",
   "execution_count": 5,
   "metadata": {
    "collapsed": false
   },
   "outputs": [
    {
     "name": "stdout",
     "output_type": "stream",
     "text": [
      "00000000000000000000000000000000000000000000000000000000\n",
      "00000000000000000000000000000000000000000000000000000000\n",
      "00000000000000000000000000000000000000000000000000000000\n",
      "00000000000000000000000000000000000000000000000000000000\n",
      "0000000000000000000000000e1915080f190f050000121300000000\n",
      "0000000000000000000000071c2b4d3b414a5c4d4245351c00000000\n",
      "0000000006080000030717263b6d886a646d786b6b59310f00000000\n",
      "000000000c100004172b32375da2ac8a7b736579805f200000000000\n",
      "00000000161000011525416595b7a16d5e786e7f7d500a0000000000\n",
      "0000000016100000081a316895a66826385666847736000000000000\n",
      "000000041810000000214a5b7d783d3b394462746d35050000000000\n",
      "0000000c19100000112c3f464c613640424e656a651e100000000000\n",
      "0000000f190c000d2b312c202d50585d555e6862491b130000000000\n",
      "0000000f1906011c3232282c256f9b907a6a64412519130000000000\n",
      "0000000f1908022d404a3a4f69b1c8bc9d71521c1d19130000000000\n",
      "0000000f19171d4d65727b7d95b8b3be8963562e19190e0000000000\n",
      "000000000b11224a60604b393a5d7e82696e7c5a2213010000000000\n",
      "0000000000001c3c391916171d568a7d5a6e7a603619060404000000\n",
      "0000000000002135260a1919245d84764966673a1018191916000000\n",
      "00000000000a22392001202b4455817d736b5b1f0008121203000000\n",
      "00000000001d344a3034394c6a5a79956568420f0000000000000000\n",
      "0000000000293a4b485d67766a5f858b493d25090000000000000000\n",
      "000000000016274c5a677b7a5b485f63322b1c0f0000000000000000\n",
      "00000000051626354564717a39193e4b222a1d0f0000000000000000\n",
      "000000000d191a232f3a372102001a2e160d190f0000000000000000\n",
      "00000000000000000000000000000112191101000000000000000000\n",
      "000000000000000000000000000000010e1904000000000000000000\n",
      "00000000000000000000000000000000000000000000000000000000\n"
     ]
    }
   ],
   "source": [
    "# 3. return the mean of the first ten images\n",
    "pixels = np.zeros([28, 28])\n",
    "\n",
    "for i in range(10):\n",
    "    pixels += img[i]\n",
    "\n",
    "pixels = pixels / 10\n",
    "pixels = pixels.astype(np.uint8)\n",
    "ascii_show(pixels)"
   ]
  },
  {
   "cell_type": "code",
   "execution_count": 6,
   "metadata": {
    "collapsed": false
   },
   "outputs": [
    {
     "data": {
      "text/plain": [
       "3"
      ]
     },
     "execution_count": 6,
     "metadata": {},
     "output_type": "execute_result"
    }
   ],
   "source": [
    "# 4. return the mean of the first ten labels\n",
    "mean = 0\n",
    "for i in range(10):\n",
    "    mean += lbl[i]\n",
    "mean = mean / 10\n",
    "mean.astype(int)"
   ]
  },
  {
   "cell_type": "code",
   "execution_count": 7,
   "metadata": {
    "collapsed": false
   },
   "outputs": [
    {
     "name": "stdout",
     "output_type": "stream",
     "text": [
      "0000000000000000000000000000000000000000000000000000000000000000\n",
      "0000000000000000000000000000000000000000000000000000000000000000\n",
      "0000000000000000000000000000000000000000000000000000000000000000\n",
      "0000000000000000000000000000000000000000000000000000000000000000\n",
      "0000000000000000000000000000000000000000000000000000000000000000\n",
      "0000000000000000000000000000000000000000000000000000000000000000\n",
      "0000000000000000000000000000000000000000000000000000000000000000\n",
      "0000000000000000000000000000031212127e88af1aa6fff77f000000000000\n",
      "000000000000000000001e245e9aaafdfdfdfdfde1acfdf2c340000000000000\n",
      "00000000000000000031eefdfdfdfdfdfdfdfdfb5d5252382700000000000000\n",
      "00000000000000000012dbfdfdfdfdfdc6b6f7f1000000000000000000000000\n",
      "00000000000000000000509c6bfdfdcd0b002b9a000000000000000000000000\n",
      "00000000000000000000000e019afd5a00000000000000000000000000000000\n",
      "000000000000000000000000008bfdbe02000000000000000000000000000000\n",
      "000000000000000000000000000bbefd46000000000000000000000000000000\n",
      "000000000000000000000000000023f1e1a06c01000000000000000000000000\n",
      "00000000000000000000000000000051f0fdfd77190000000000000000000000\n",
      "000000000000000000000000000000002dbafdfd961b00000000000000000000\n",
      "0000000000000000000000000000000000105dfcfdbb00000000000000000000\n",
      "00000000000000000000000000000000000000f9fdf940000000000000000000\n",
      "000000000000000000000000000000002e82b7fdfdcf02000000000000000000\n",
      "00000000000000000000000000002794e5fdfdfdfab600000000000000000000\n",
      "0000000000000000000000001872ddfdfdfdfdc94e0000000000000000000000\n",
      "000000000000000000001742d5fdfdfdfdc65102000000000000000000000000\n",
      "000000000000000012abdbfdfdfdfdc350090000000000000000000000000000\n",
      "00000000000037ace2fdfdfdfdf4850b00000000000000000000000000000000\n",
      "00000000000088fdfdfdd4878410000000000000000000000000000000000000\n",
      "0000000000000000000000000000000000000000000000000000000000000000\n",
      "0000000000000000000000000000000000000000000000000000000000000000\n",
      "0000000000000000000000000000000000000000000000000000000000000000\n",
      "0000000000000000000000000000000000000000000000000000000000000000\n",
      "0000000000000000000000000000000000000000000000000000000000000000\n"
     ]
    }
   ],
   "source": [
    "# 5. pad the first image with 0 \n",
    "padded_img0 = np.lib.pad(img[0], pad_width=(2, 2), mode='edge')\n",
    "ascii_show(padded_img0)"
   ]
  },
  {
   "cell_type": "code",
   "execution_count": 8,
   "metadata": {
    "collapsed": false
   },
   "outputs": [
    {
     "data": {
      "image/png": "[encoded data removed]",
      "text/plain": [
       "<PIL.Image.Image image mode=L size=28x28 at 0x10FF26EB8>"
      ]
     },
     "execution_count": 8,
     "metadata": {},
     "output_type": "execute_result"
    }
   ],
   "source": [
    "# 6. save the first image as a bmp file\n",
    "result = Image.fromarray(img[0])\n",
    "result"
   ]
  },
  {
   "cell_type": "code",
   "execution_count": 9,
   "metadata": {
    "collapsed": true
   },
   "outputs": [],
   "source": [
    "result.save(\"img0.bmp\")"
   ]
  }
 ],
 "metadata": {
  "kernelspec": {
   "display_name": "Python 3",
   "language": "python",
   "name": "python3"
  },
  "language_info": {
   "codemirror_mode": {
    "name": "ipython",
    "version": 3
   },
   "file_extension": ".py",
   "mimetype": "text/x-python",
   "name": "python",
   "nbconvert_exporter": "python",
   "pygments_lexer": "ipython3",
   "version": "3.6.0"
  }
 },
 "nbformat": 4,
 "nbformat_minor": 2
}
