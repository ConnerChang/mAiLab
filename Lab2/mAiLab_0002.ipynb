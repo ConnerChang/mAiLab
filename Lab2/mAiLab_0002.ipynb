{
 "cells": [
  {
   "cell_type": "code",
   "execution_count": 1,
   "metadata": {
    "collapsed": true,
    "deletable": true,
    "editable": true
   },
   "outputs": [],
   "source": [
    "import numpy as np\n",
    "import time"
   ]
  },
  {
   "cell_type": "code",
   "execution_count": 2,
   "metadata": {
    "collapsed": false,
    "deletable": true,
    "editable": true
   },
   "outputs": [
    {
     "name": "stdout",
     "output_type": "stream",
     "text": [
      "[ 1.62434536 -0.61175641 -0.52817175 -1.07296862  0.86540763]\n"
     ]
    }
   ],
   "source": [
    "# 1. generate an array of 5 random values\n",
    "np.random.seed(1)\n",
    "print(np.random.randn(5))"
   ]
  },
  {
   "cell_type": "code",
   "execution_count": 3,
   "metadata": {
    "collapsed": false,
    "deletable": true,
    "editable": true
   },
   "outputs": [
    {
     "name": "stdout",
     "output_type": "stream",
     "text": [
      "Generate 10 random values:\n",
      "Mean: -0.3707\n",
      "Standard Deviation: 0.4129\n",
      "Elapsed Time:0.0013720\n",
      "\n",
      "Generate 100 random values:\n",
      "Mean: -0.0282\n",
      "Standard Deviation: 0.5888\n",
      "Elapsed Time:0.0003700\n",
      "\n",
      "Generate 1000 random values:\n",
      "Mean: 0.0012\n",
      "Standard Deviation: 0.5767\n",
      "Elapsed Time:0.0007960\n",
      "\n",
      "Generate 10000 random values:\n",
      "Mean: -0.0040\n",
      "Standard Deviation: 0.5754\n",
      "Elapsed Time:0.0019510\n",
      "\n",
      "Generate 100000 random values:\n",
      "Mean: -0.0016\n",
      "Standard Deviation: 0.5787\n",
      "Elapsed Time:0.0040910\n",
      "\n"
     ]
    }
   ],
   "source": [
    "# 2. generate N random numbers between -1 and 1, N are 10^1, 10^2, 10^3, 10^4, and 10^5\n",
    "# Besides, print the mean and standard deviation of those random numbers\n",
    "def gen_randm_numbers(n):\n",
    "    np.random.seed(1)\n",
    "    randn_array = np.random.uniform(-1, 1, 10**n)\n",
    "    print(\"Mean: {:.4f}\".format(np.mean(randn_array)))\n",
    "    print(\"Standard Deviation: {:.4f}\".format(np.std(randn_array)))\n",
    "\n",
    "for n in range(1, 6):\n",
    "    # 3. print elapsed time\n",
    "    t = time.process_time()\n",
    "    print(\"Generate {} random values:\".format(10**n))\n",
    "    gen_randm_numbers(n)\n",
    "    elapsed_time = time.process_time() - t\n",
    "    print(\"Elapsed Time:{:.7f}\\n\".format(elapsed_time))"
   ]
  },
  {
   "cell_type": "code",
   "execution_count": 4,
   "metadata": {
    "collapsed": false,
    "deletable": true,
    "editable": true
   },
   "outputs": [
    {
     "data": {
      "text/plain": [
       "[297746555, 1849040536, 736986865, 581309142, 1106733399]"
      ]
     },
     "execution_count": 4,
     "metadata": {},
     "output_type": "execute_result"
    }
   ],
   "source": [
    "# 4. implement a random number generator using linear congruential generator algorithm\n",
    "# an arguable drawback of the implementation is that one must set the random seed when using the function  \n",
    "def lcg(num, seed=None):\n",
    "    if seed is not None:\n",
    "        pre_rnumber = seed\n",
    "    for i in range(num):\n",
    "        # recurrence relation: Xn+1 = (Xn * a + c) mod m\n",
    "        rnumber = (pre_rnumber * 1103515245 + 12345) % (2**31)\n",
    "        yield rnumber\n",
    "        pre_rnumber = rnumber\n",
    "    \n",
    "list(lcg(num = 5, seed=10))"
   ]
  },
  {
   "cell_type": "code",
   "execution_count": null,
   "metadata": {
    "collapsed": true
   },
   "outputs": [],
   "source": []
  }
 ],
 "metadata": {
  "kernelspec": {
   "display_name": "Python 3",
   "language": "python",
   "name": "python3"
  },
  "language_info": {
   "codemirror_mode": {
    "name": "ipython",
    "version": 3
   },
   "file_extension": ".py",
   "mimetype": "text/x-python",
   "name": "python",
   "nbconvert_exporter": "python",
   "pygments_lexer": "ipython3",
   "version": "3.6.0"
  }
 },
 "nbformat": 4,
 "nbformat_minor": 2
}
